{
 "cells": [
  {
   "cell_type": "code",
   "execution_count": 14,
   "id": "ec07130f",
   "metadata": {},
   "outputs": [],
   "source": [
    "def printFunction(s):\n",
    "    print(s)"
   ]
  },
  {
   "cell_type": "code",
   "execution_count": 2,
   "id": "b0130f28",
   "metadata": {},
   "outputs": [
    {
     "name": "stdout",
     "output_type": "stream",
     "text": [
      "Hi I am Utkarsh\n"
     ]
    }
   ],
   "source": [
    "printFunction(\"Hi I am Utkarsh\")"
   ]
  },
  {
   "cell_type": "code",
   "execution_count": 3,
   "id": "85d54584",
   "metadata": {},
   "outputs": [
    {
     "name": "stdout",
     "output_type": "stream",
     "text": [
      "4\n"
     ]
    }
   ],
   "source": [
    "printFunction(4)"
   ]
  },
  {
   "cell_type": "code",
   "execution_count": 4,
   "id": "f2feff1d",
   "metadata": {},
   "outputs": [
    {
     "name": "stdout",
     "output_type": "stream",
     "text": [
      "4.234\n"
     ]
    }
   ],
   "source": [
    "printFunction(4.234)"
   ]
  },
  {
   "cell_type": "code",
   "execution_count": 5,
   "id": "0a5a002d",
   "metadata": {},
   "outputs": [
    {
     "ename": "TypeError",
     "evalue": "printFunction() takes 1 positional argument but 4 were given",
     "output_type": "error",
     "traceback": [
      "\u001b[0;31m---------------------------------------------------------------------------\u001b[0m",
      "\u001b[0;31mTypeError\u001b[0m                                 Traceback (most recent call last)",
      "Cell \u001b[0;32mIn[5], line 1\u001b[0m\n\u001b[0;32m----> 1\u001b[0m printFunction(\u001b[38;5;124m\"\u001b[39m\u001b[38;5;124mHi, I am \u001b[39m\u001b[38;5;124m\"\u001b[39m, \u001b[38;5;241m4\u001b[39m, \u001b[38;5;124m\"\u001b[39m\u001b[38;5;124myears old and my bank balance is\u001b[39m\u001b[38;5;124m\"\u001b[39m, \u001b[38;5;241m4.567\u001b[39m)\n",
      "\u001b[0;31mTypeError\u001b[0m: printFunction() takes 1 positional argument but 4 were given"
     ]
    }
   ],
   "source": [
    "printFunction(\"Hi, I am \", 4, \"years old and my bank balance is\", 4.567)"
   ]
  },
  {
   "cell_type": "code",
   "execution_count": 6,
   "id": "9be483fe",
   "metadata": {},
   "outputs": [
    {
     "name": "stdout",
     "output_type": "stream",
     "text": [
      "Hi, I am  4 years old and my bank balance is 4.567\n"
     ]
    }
   ],
   "source": [
    "print(\"Hi, I am \", 4, \"years old and my bank balance is\", 4.567)"
   ]
  },
  {
   "cell_type": "code",
   "execution_count": 7,
   "id": "5e7d504b",
   "metadata": {},
   "outputs": [
    {
     "ename": "TypeError",
     "evalue": "can only concatenate str (not \"int\") to str",
     "output_type": "error",
     "traceback": [
      "\u001b[0;31m---------------------------------------------------------------------------\u001b[0m",
      "\u001b[0;31mTypeError\u001b[0m                                 Traceback (most recent call last)",
      "Cell \u001b[0;32mIn[7], line 1\u001b[0m\n\u001b[0;32m----> 1\u001b[0m s \u001b[38;5;241m=\u001b[39m \u001b[38;5;124m\"\u001b[39m\u001b[38;5;124mHi, I am \u001b[39m\u001b[38;5;124m\"\u001b[39m \u001b[38;5;241m+\u001b[39m \u001b[38;5;241m4\u001b[39m \u001b[38;5;241m+\u001b[39m \u001b[38;5;124m\"\u001b[39m\u001b[38;5;124myears old and my bank balance is\u001b[39m\u001b[38;5;124m\"\u001b[39m \u001b[38;5;241m+\u001b[39m \u001b[38;5;241m4.567\u001b[39m\n",
      "\u001b[0;31mTypeError\u001b[0m: can only concatenate str (not \"int\") to str"
     ]
    }
   ],
   "source": [
    "s = \"Hi, I am \" + 4 + \"years old and my bank balance is\" + 4.567"
   ]
  },
  {
   "cell_type": "code",
   "execution_count": 8,
   "id": "475b82f8",
   "metadata": {},
   "outputs": [
    {
     "name": "stdout",
     "output_type": "stream",
     "text": [
      "Hi! I am Utkarsh\n"
     ]
    }
   ],
   "source": [
    "printFunction(\"Hi! \" + \"I am Utkarsh\")"
   ]
  },
  {
   "cell_type": "code",
   "execution_count": 9,
   "id": "381e63fb",
   "metadata": {},
   "outputs": [],
   "source": [
    "def square(x):\n",
    "    return x ** 2"
   ]
  },
  {
   "cell_type": "code",
   "execution_count": 10,
   "id": "bf53fdeb",
   "metadata": {},
   "outputs": [
    {
     "data": {
      "text/plain": [
       "9"
      ]
     },
     "execution_count": 10,
     "metadata": {},
     "output_type": "execute_result"
    }
   ],
   "source": [
    "square(3)"
   ]
  },
  {
   "cell_type": "code",
   "execution_count": 11,
   "id": "0562a33a",
   "metadata": {},
   "outputs": [
    {
     "data": {
      "text/plain": [
       "5308416"
      ]
     },
     "execution_count": 11,
     "metadata": {},
     "output_type": "execute_result"
    }
   ],
   "source": [
    "square(2304)"
   ]
  },
  {
   "cell_type": "code",
   "execution_count": 16,
   "id": "95001249",
   "metadata": {},
   "outputs": [],
   "source": [
    "def appendToList(lst, x):\n",
    "    lst.append(x)"
   ]
  },
  {
   "cell_type": "code",
   "execution_count": 17,
   "id": "a10c7957",
   "metadata": {},
   "outputs": [],
   "source": [
    "grocery = [\"apple\", \"banana\"]"
   ]
  },
  {
   "cell_type": "code",
   "execution_count": 18,
   "id": "e8ebb970",
   "metadata": {},
   "outputs": [
    {
     "data": {
      "text/plain": [
       "['apple', 'banana', 'orange']"
      ]
     },
     "execution_count": 18,
     "metadata": {},
     "output_type": "execute_result"
    }
   ],
   "source": [
    "appendToList(grocery, \"orange\")\n",
    "grocery"
   ]
  },
  {
   "cell_type": "code",
   "execution_count": 19,
   "id": "5480a910",
   "metadata": {},
   "outputs": [
    {
     "data": {
      "text/plain": [
       "['apple', 'banana', 'orange', 5]"
      ]
     },
     "execution_count": 19,
     "metadata": {},
     "output_type": "execute_result"
    }
   ],
   "source": [
    "appendToList(grocery, 5)\n",
    "grocery"
   ]
  },
  {
   "cell_type": "code",
   "execution_count": 20,
   "id": "db8d5487",
   "metadata": {},
   "outputs": [
    {
     "data": {
      "text/plain": [
       "['apple', 'banana', 'orange', 5, 5.6778]"
      ]
     },
     "execution_count": 20,
     "metadata": {},
     "output_type": "execute_result"
    }
   ],
   "source": [
    "appendToList(grocery, 5.6778)\n",
    "grocery"
   ]
  },
  {
   "cell_type": "code",
   "execution_count": null,
   "id": "295dc667",
   "metadata": {},
   "outputs": [],
   "source": []
  }
 ],
 "metadata": {
  "kernelspec": {
   "display_name": "Python 3 (ipykernel)",
   "language": "python",
   "name": "python3"
  },
  "language_info": {
   "codemirror_mode": {
    "name": "ipython",
    "version": 3
   },
   "file_extension": ".py",
   "mimetype": "text/x-python",
   "name": "python",
   "nbconvert_exporter": "python",
   "pygments_lexer": "ipython3",
   "version": "3.11.5"
  }
 },
 "nbformat": 4,
 "nbformat_minor": 5
}
