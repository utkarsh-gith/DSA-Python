{
 "cells": [
  {
   "cell_type": "code",
   "execution_count": 1,
   "id": "1082f843",
   "metadata": {},
   "outputs": [
    {
     "name": "stdout",
     "output_type": "stream",
     "text": [
      "Conditions.ipynb Lists.ipynb      readWrite.ipynb\r\n",
      "Functions.ipynb  input.txt\r\n"
     ]
    }
   ],
   "source": [
    "!ls"
   ]
  },
  {
   "cell_type": "code",
   "execution_count": 3,
   "id": "1576c843",
   "metadata": {},
   "outputs": [
    {
     "name": "stdout",
     "output_type": "stream",
     "text": [
      "['Hello! I am Utkarsh\\n', 'I am 20 years old\\n', 'I am from Mysuru\\n', 'I speak Hindi\\n', 'I have one sibling']\n"
     ]
    }
   ],
   "source": [
    "p = 'input.txt'\n",
    "\n",
    "with open(p, 'r') as f:\n",
    "    print(f.readlines())"
   ]
  },
  {
   "cell_type": "code",
   "execution_count": 4,
   "id": "d63a886e",
   "metadata": {},
   "outputs": [
    {
     "name": "stdout",
     "output_type": "stream",
     "text": [
      "Hello! I am Utkarsh\n",
      "I am 20 years old\n",
      "I am from Mysuru\n",
      "I speak Hindi\n",
      "I have one sibling\n"
     ]
    }
   ],
   "source": [
    "with open(p, 'r') as f:\n",
    "    print(f.read())"
   ]
  },
  {
   "cell_type": "code",
   "execution_count": 6,
   "id": "8b40fe47",
   "metadata": {},
   "outputs": [
    {
     "name": "stdout",
     "output_type": "stream",
     "text": [
      "Hello! I am Utkarsh\n",
      "\n",
      "I am 20 years old\n",
      "\n",
      "I am from Mysuru\n",
      "\n",
      "I speak Hindi\n",
      "\n",
      "I have one sibling\n"
     ]
    }
   ],
   "source": [
    "with open(p, 'r') as f:\n",
    "    for line in f:\n",
    "        print(line)"
   ]
  },
  {
   "cell_type": "code",
   "execution_count": 7,
   "id": "858fa322",
   "metadata": {},
   "outputs": [
    {
     "name": "stdout",
     "output_type": "stream",
     "text": [
      "Hello! I am Utkarsh\n",
      "I am 20 years old\n",
      "I am from Mysuru\n",
      "I speak Hindi\n",
      "I have one sibling\n"
     ]
    }
   ],
   "source": [
    "with open(p, 'r') as f:\n",
    "    for line in f:\n",
    "        print(line.rstrip())"
   ]
  },
  {
   "cell_type": "code",
   "execution_count": 8,
   "id": "19cc292c",
   "metadata": {},
   "outputs": [
    {
     "name": "stdout",
     "output_type": "stream",
     "text": [
      "Hello\n"
     ]
    }
   ],
   "source": [
    "with open('output.txt', 'w') as f:\n",
    "    f.write(\"Hello\")\n",
    "with open('output.txt', 'r') as f:\n",
    "    print(f.read())"
   ]
  },
  {
   "cell_type": "code",
   "execution_count": 9,
   "id": "73946ae3",
   "metadata": {},
   "outputs": [
    {
     "name": "stdout",
     "output_type": "stream",
     "text": [
      "Hi I a disco dancer\n"
     ]
    }
   ],
   "source": [
    "with open('output.txt', 'w') as f:\n",
    "    f.write(\"Hi I a disco dancer\")\n",
    "with open('output.txt', 'r') as f:\n",
    "    print(f.read())"
   ]
  },
  {
   "cell_type": "code",
   "execution_count": 10,
   "id": "3eb063af",
   "metadata": {},
   "outputs": [
    {
     "name": "stdout",
     "output_type": "stream",
     "text": [
      "Hi I a disco dancer\n",
      "Hello I was wrong\n"
     ]
    }
   ],
   "source": [
    "with open('output.txt', 'a') as f:\n",
    "    f.write(\"\\nHello I was wrong\")\n",
    "with open('output.txt', 'r') as f:\n",
    "    print(f.read())"
   ]
  },
  {
   "cell_type": "code",
   "execution_count": null,
   "id": "4dd3d534",
   "metadata": {},
   "outputs": [],
   "source": []
  }
 ],
 "metadata": {
  "kernelspec": {
   "display_name": "Python 3 (ipykernel)",
   "language": "python",
   "name": "python3"
  },
  "language_info": {
   "codemirror_mode": {
    "name": "ipython",
    "version": 3
   },
   "file_extension": ".py",
   "mimetype": "text/x-python",
   "name": "python",
   "nbconvert_exporter": "python",
   "pygments_lexer": "ipython3",
   "version": "3.11.5"
  }
 },
 "nbformat": 4,
 "nbformat_minor": 5
}
