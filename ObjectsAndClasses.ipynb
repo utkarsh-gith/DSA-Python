{
 "cells": [
  {
   "cell_type": "markdown",
   "id": "e3a0fcfb",
   "metadata": {},
   "source": [
    "self.name -> public\n",
    "self._name -> protected\n",
    "self.__name -> private"
   ]
  },
  {
   "cell_type": "markdown",
   "id": "cf2b87b1",
   "metadata": {},
   "source": [
    "__ str __ -> for print()  ------   __ repr __ -> for p"
   ]
  },
  {
   "cell_type": "code",
   "execution_count": 1,
   "id": "a998e4e3",
   "metadata": {},
   "outputs": [],
   "source": [
    "class Person:\n",
    "    def __init__(self, name, age):\n",
    "        self._name = name\n",
    "        self._age = age\n",
    "    def __str__(self):\n",
    "        return \"Person\\nName: \" + self._name + \"\\nAge: \" + str(self._age)\n",
    "    def __repr__(self):\n",
    "        return \"Person\\nName: \" + self._name + \"\\nAge: \" + str(self._age)"
   ]
  },
  {
   "cell_type": "code",
   "execution_count": 2,
   "id": "3f76c489",
   "metadata": {},
   "outputs": [
    {
     "data": {
      "text/plain": [
       "Person\n",
       "Name: Utkarsh\n",
       "Age: 20"
      ]
     },
     "execution_count": 2,
     "metadata": {},
     "output_type": "execute_result"
    }
   ],
   "source": [
    "p = Person(\"Utkarsh\", 20)\n",
    "p"
   ]
  },
  {
   "cell_type": "code",
   "execution_count": 3,
   "id": "6a1b45e0",
   "metadata": {},
   "outputs": [
    {
     "data": {
      "text/plain": [
       "20"
      ]
     },
     "execution_count": 3,
     "metadata": {},
     "output_type": "execute_result"
    }
   ],
   "source": [
    "p._age"
   ]
  },
  {
   "cell_type": "code",
   "execution_count": 4,
   "id": "056b614b",
   "metadata": {},
   "outputs": [
    {
     "data": {
      "text/plain": [
       "'Utkarsh'"
      ]
     },
     "execution_count": 4,
     "metadata": {},
     "output_type": "execute_result"
    }
   ],
   "source": [
    "p._name"
   ]
  },
  {
   "cell_type": "code",
   "execution_count": null,
   "id": "3ffe4527",
   "metadata": {},
   "outputs": [],
   "source": []
  }
 ],
 "metadata": {
  "kernelspec": {
   "display_name": "Python 3 (ipykernel)",
   "language": "python",
   "name": "python3"
  },
  "language_info": {
   "codemirror_mode": {
    "name": "ipython",
    "version": 3
   },
   "file_extension": ".py",
   "mimetype": "text/x-python",
   "name": "python",
   "nbconvert_exporter": "python",
   "pygments_lexer": "ipython3",
   "version": "3.11.5"
  }
 },
 "nbformat": 4,
 "nbformat_minor": 5
}
